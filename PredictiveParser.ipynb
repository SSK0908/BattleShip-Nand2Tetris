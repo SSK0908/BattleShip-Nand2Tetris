{
 "cells": [
  {
   "cell_type": "code",
   "execution_count": 24,
   "metadata": {},
   "outputs": [],
   "source": [
    "class PredictiveParser:\n",
    "    def __init__(self, JackFileLoc):\n",
    "        self.JackPath = JackFileLoc;\n",
    "        a = open(self.JackPath, \"r\")\n",
    "        self.Code = a.readlines()\n",
    "        self.pureCode = []\n",
    "\n",
    "    def parser(self, commentedCode):\n",
    "        p = 0\n",
    "        for i in commentedCode:\n",
    "            commentedCode[p] = i.split(\"//\")[0]\n",
    "            p += 1\n",
    "        for i in commentedCode:\n",
    "            self.pureCode.append(i.strip())\n",
    "        self.Code = commentedCode\n",
    "        self.pureCode.remove('')\n",
    "\n",
    "    def main(self):\n",
    "        self.parser(self.Code)\n",
    "        for i in self.Code:\n",
    "            print(i)\n",
    "        print(\"\\n\\n\")\n",
    "        print(self.pureCode)"
   ]
  },
  {
   "cell_type": "code",
   "execution_count": 25,
   "metadata": {},
   "outputs": [
    {
     "name": "stdout",
     "output_type": "stream",
     "text": [
      "\n",
      "class Main {\n",
      "\n",
      "    static boolean test;    \n",
      "                            \n",
      "\n",
      "\n",
      "    function void main() {\n",
      "\n",
      "        var SquareGame game;\n",
      "\n",
      "        let game = game;\n",
      "\n",
      "        do game.run();\n",
      "\n",
      "        do game.dispose();\n",
      "\n",
      "        return;\n",
      "\n",
      "    }\n",
      "\n",
      "\n",
      "\n",
      "    function void more() {  \n",
      "        var boolean b;      \n",
      "        if (b) {\n",
      "\n",
      "        }\n",
      "\n",
      "        else {              \n",
      "        }\n",
      "\n",
      "        return;\n",
      "\n",
      "    }\n",
      "\n",
      "}\n",
      "\n",
      "\n",
      "\n",
      "['class Main {', 'static boolean test;', '', '', 'function void main() {', 'var SquareGame game;', 'let game = game;', 'do game.run();', 'do game.dispose();', 'return;', '}', '', 'function void more() {', 'var boolean b;', 'if (b) {', '}', 'else {', '}', 'return;', '}', '}']\n"
     ]
    }
   ],
   "source": [
    "a = PredictiveParser(\"Test.jack\")\n",
    "a.main()"
   ]
  },
  {
   "cell_type": "code",
   "execution_count": null,
   "metadata": {},
   "outputs": [],
   "source": []
  }
 ],
 "metadata": {
  "kernelspec": {
   "display_name": "Python 3.8.12 ('base')",
   "language": "python",
   "name": "python3"
  },
  "language_info": {
   "codemirror_mode": {
    "name": "ipython",
    "version": 3
   },
   "file_extension": ".py",
   "mimetype": "text/x-python",
   "name": "python",
   "nbconvert_exporter": "python",
   "pygments_lexer": "ipython3",
   "version": "3.8.12"
  },
  "orig_nbformat": 4,
  "vscode": {
   "interpreter": {
    "hash": "4a3c173c51a087e60b682653f13776877ead85392d66304af7a9df55cfc03e88"
   }
  }
 },
 "nbformat": 4,
 "nbformat_minor": 2
}
